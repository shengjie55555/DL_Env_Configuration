{
 "cells": [
  {
   "cell_type": "markdown",
   "metadata": {},
   "source": [
    "# Python 进阶教程\n",
    "## 代码规范\n",
    "### 1.1 名称\n",
    "* 文件夹，小写或者小写下划线连接，比如：models, utils, train_utils...\n",
    "* 文件，小写或者小写下划线连接，比如：train.py, multiple_gpus_train.py...\n",
    "* 包名、模块名、函数名，小写或者小写下划线连接，比如：import torch, train_for_one_epoch(...)\n",
    "* 类名，首字母大写式，比如：class AgentEncoder(nn.Module)\n",
    "* 变量\n",
    "  * 全局变量，大写或者大写下划线连接，比如：CONFIG = dict(), TRAIN_ARGS = dict()...\n",
    "  * 局部变量，小写或者小写下划线连接，比如：optimizer = Optim.Adam(...), val_dataloader = DataLoader(...)\n",
    "\n",
    "### 1.2 注释\n",
    "* 方法必须使用标注注释，如果是公有方法或对外提供的API相关方法，则最好给出使用样例\n",
    "* TODO注释：'#'+单个空格+'TODO'+单个空格+注释内容"
   ]
  },
  {
   "cell_type": "markdown",
   "metadata": {},
   "source": [
    "## list, tuple, set, dict\n",
    "| 类型    | 是否可修改    | 是否有序 | 元素要求   | 是否可哈希 | 转换         | 空定义                |\n",
    "|-------|----------|------|--------|-------|------------|--------------------|\n",
    "| list  | 是        | 是    | 无      | 否     | list(...)  | v = list()或v = []  |\n",
    "| tuple | 否        | 是    | 无      | 是     | tuple(...) | v = tuple()或v = () |\n",
    "| set   | 否        | 否    | 可哈希    | 否     | set(...)   | v = set()          |\n",
    "| dict  | value可修改 | 否    | key可哈希 | 否     | dict(...)  | v = dict()或v = {}  |\n",
    "\n",
    "__注意__：Python3.6之后，dict是有序的，体现在list(dict.keys())是按照插入的顺序返回的  \n",
    "__注意__：1, True, 1.0作为key的时候是一样的，最后只会出现一组键值对"
   ]
  },
  {
   "cell_type": "code",
   "execution_count": 66,
   "metadata": {},
   "outputs": [
    {
     "name": "stdout",
     "output_type": "stream",
     "text": [
      "[1, 2, (1, 2), 'str', True, {1: 1, 2: 2}, {1, 2}, 1.0]\n",
      "(1, 2, (1, 2), 'str', True, {1: 1, 2: 2}, {1, 2}, 1.0)\n",
      "{1, 2, (1, 2), 'str'}\n",
      "{(1, 2): 0, 'str': 2, True: 2}\n",
      "[(1, 2), 'str', True]\n"
     ]
    }
   ],
   "source": [
    "list_v = [1, 2, (1, 2), \"str\", True, {1: 1, 2: 2}, {1, 2}, 1.0]\n",
    "tuple_v = (1, 2, (1, 2), \"str\", True, {1: 1, 2: 2}, {1, 2}, 1.0)\n",
    "set_v = {1, 2, (1, 2), \"str\", True}\n",
    "dict_v = {(1, 2): 0, \"str\": 2, True: 2}\n",
    "for item in [list_v, tuple_v, set_v, dict_v]:\n",
    "    print(item)\n",
    "print(list(dict_v.keys()))"
   ]
  },
  {
   "cell_type": "markdown",
   "metadata": {},
   "source": [
    "## pass, continue, break\n",
    "* pass是空语句，作用是保持程序结构的完整性.\n",
    "* continue结束本次循环，继续下一次循环\n",
    "* break结束本次循环，跳出循环"
   ]
  },
  {
   "cell_type": "code",
   "execution_count": 67,
   "metadata": {},
   "outputs": [
    {
     "name": "stdout",
     "output_type": "stream",
     "text": [
      "------loop: 0-------\n",
      "the num is 0\n",
      "the num is 0\n",
      "the num is 0\n",
      "------loop: 1-------\n",
      "the num is 1\n",
      "continue: the num is 1\n",
      "------loop: 2-------\n",
      "the num is 2\n",
      "the num is 2\n",
      "the num is 2\n",
      "------loop: 3-------\n",
      "the num is 3\n",
      "the num is 3\n",
      "break: the num is 3\n"
     ]
    }
   ],
   "source": [
    "for i in range(5):\n",
    "    print(f\"loop: {i}\".center(20, '-'))\n",
    "    print(f\"the num is {i}\")\n",
    "    if i == 0:\n",
    "        pass\n",
    "    if i == 1:\n",
    "        print(\"continue: the num is {}\".format(i))\n",
    "        continue\n",
    "    else:\n",
    "        print(\"the num is {}\".format(i))\n",
    "    if i == 3:\n",
    "        print(\"break: the num is %d\" % i)\n",
    "        break\n",
    "    else:\n",
    "        print(\"the num is %d\" % i)\n"
   ]
  },
  {
   "cell_type": "markdown",
   "metadata": {},
   "source": [
    "## is和==的区别\n",
    "* ==：比较值是否相等\n",
    "* is：比较内存地址是否相同"
   ]
  },
  {
   "cell_type": "code",
   "execution_count": 68,
   "metadata": {},
   "outputs": [
    {
     "name": "stdout",
     "output_type": "stream",
     "text": [
      "True\n",
      "False\n",
      "True\n",
      "True\n"
     ]
    }
   ],
   "source": [
    "v1, v2 = [], []\n",
    "v3 = v2\n",
    "print(v1 == v2)\n",
    "print(v1 is v2)\n",
    "print(v2 == v3)\n",
    "print(v2 is v3)"
   ]
  },
  {
   "cell_type": "markdown",
   "metadata": {},
   "source": [
    "## 文件操作\n",
    "### 1. 文件读取和写入\n",
    "#### 1.1 文件读取\n",
    "* f.read(...)    # 不给参数时默认读取整个文件，如果文件过大，内存可能不够，给定参数n后，可读取特定的n个字符或字节\n",
    "* f.readline()   # 从当前光标位置逐行读取\n",
    "* f.readlines()  # 从当前光标位置逐行读取剩下的所有内容，并返回一个list\n",
    "\n",
    "#### 1.2 文件写入\n",
    "* f.write(...)   # 只是将内容写入了缓冲区，缓冲区机制是到达一个容量后才写入硬盘\n",
    "* f.flush()      # 将当前缓冲区内的内容立刻写入硬盘  \n",
    "\n",
    "__注意__：读取和写入的不同模式，会导致光标所在字节位置有变化\n",
    "\n",
    "#### 1.3 上下文管理\n",
    "可以实现自动关闭文件"
   ]
  },
  {
   "cell_type": "code",
   "execution_count": 69,
   "metadata": {},
   "outputs": [
    {
     "name": "stdout",
     "output_type": "stream",
     "text": [
      "['1. read\\n', '2. write \\n', 'this is a string written by file operation in Python. \\n']\n",
      "operation\n",
      "1. read\n",
      "2. write \n",
      "this is a string written by file operation in Python. \n",
      "\n"
     ]
    }
   ],
   "source": [
    "file_object = open(\"materials/log.txt\", mode='rt')\n",
    "line = file_object.readline()\n",
    "line = file_object.readlines()\n",
    "file_object.close()\n",
    "print(line)\n",
    "assert len(line) > 0\n",
    "file_object = open(\"materials/log.txt\", mode='a')\n",
    "if line[-1] != \"this is a string written by file operation in Python. \\n\":\n",
    "    file_object.write(\"this is a string written by file operation in Python. \\n\")\n",
    "file_object.close()\n",
    "with open(\"materials/log.txt\", 'rt') as f:\n",
    "    data = f.read()\n",
    "    print(data)"
   ]
  },
  {
   "cell_type": "markdown",
   "metadata": {},
   "source": [
    "### 2. 文件和文件夹路径相关"
   ]
  },
  {
   "cell_type": "code",
   "execution_count": 70,
   "metadata": {},
   "outputs": [
    {
     "name": "stdout",
     "output_type": "stream",
     "text": [
      "/home/wsj/code_space/DL_Env_Configuration /home/wsj/code_space/DL_Env_Configuration/materials/log.txt\n",
      "True\n",
      "False\n",
      "True\n"
     ]
    }
   ],
   "source": [
    "import os\n",
    "base_dir = os.getcwd()\n",
    "file_dir = os.path.join(base_dir, \"materials\", \"log.txt\")\n",
    "print(base_dir, file_dir)\n",
    "print(os.path.exists(file_dir))\n",
    "print(os.path.isdir(file_dir))\n",
    "print(os.path.isabs(file_dir))"
   ]
  },
  {
   "cell_type": "markdown",
   "metadata": {},
   "source": [
    "### 3. 文件移动、删除、复制\n",
    "* shutil.rmtree(...)  # 参数为文件夹路径，将递归的删除文件夹内所有文件，最后删除该文件夹\n",
    "* os.remove(...)  # 用于删除单个文件"
   ]
  },
  {
   "cell_type": "code",
   "execution_count": 71,
   "metadata": {},
   "outputs": [],
   "source": [
    "import os\n",
    "import shutil\n",
    "file_dir = os.path.join(os.getcwd(), \"materials\", \"log.txt\")\n",
    "new_file_dir = os.path.join(os.path.dirname(file_dir), 'log_copy.txt')\n",
    "shutil.copyfile(file_dir, new_file_dir)\n",
    "shutil.move(new_file_dir, os.path.join(os.path.dirname(new_file_dir), \"log_rename.txt\"))\n",
    "os.remove(os.path.join(os.path.dirname(new_file_dir), \"log_rename.txt\"))"
   ]
  },
  {
   "cell_type": "markdown",
   "metadata": {},
   "source": [
    "### 4. CSV格式文件\n",
    "* csv文件是用逗号作为分隔符的纯文本数据存储格式\n",
    "* 可以用传统文件读写操作处理，也可以使用第三方库：csv, pandas"
   ]
  },
  {
   "cell_type": "code",
   "execution_count": 72,
   "metadata": {},
   "outputs": [
    {
     "name": "stdout",
     "output_type": "stream",
     "text": [
      "[64, 92, 70, 70, 88, 57, 64, 92, 70, 70, 88, 570, 99]\n",
      "             0   1   2   3\n",
      "0  Shengjie Wu  24  NY  99\n"
     ]
    }
   ],
   "source": [
    "import pandas as pd\n",
    "df = pd.read_csv(\"materials/points.csv\", header=0)\n",
    "new_df = pd.DataFrame([[\"Shengjie Wu\", 24, \"NY\", 99]])\n",
    "if \"Shengjie Wu\" not in list(df[\"name\"]):\n",
    "    new_df.to_csv(\"materials/points.csv\", mode='a', header=False, index=None)\n",
    "print(list(df[\"point\"]))\n",
    "print(new_df)"
   ]
  },
  {
   "cell_type": "markdown",
   "metadata": {},
   "source": [
    "### 5. pickle格式文件\n",
    "* 不同于普通的file函数只能存储和读取字符串格式的数据，pickle可以存储和读取其他格式比如list, dict, numpy.array()等\n",
    "* pickle的经常存取的场景（保存和恢复状态）下读取效率相较file更加高效  \n",
    "\n",
    "__注意__：在深度学习数据预处理时，就可以将处理后的数据保存成*.pickle，训练时直接load即可"
   ]
  },
  {
   "cell_type": "code",
   "execution_count": 73,
   "metadata": {},
   "outputs": [
    {
     "name": "stdout",
     "output_type": "stream",
     "text": [
      "{'feats': array([[0.33487029, 0.39792792, 0.66601897],\n",
      "       [0.11761664, 0.14704708, 0.12283957],\n",
      "       [0.25814025, 0.12651752, 0.74917641]]), 'idcs': [0, 1, 2]}\n"
     ]
    }
   ],
   "source": [
    "import pickle\n",
    "import numpy as np\n",
    "pickle_data = {\n",
    "    \"feats\": np.random.rand(3, 3),\n",
    "    \"idcs\": [0, 1, 2]\n",
    "}\n",
    "if not os.path.exists(\"materials/data.pickle\"):\n",
    "    with open(\"materials/data.pickle\", mode=\"wb\") as f:\n",
    "        pickle.dump(pickle_data, f, protocol=pickle.HIGHEST_PROTOCOL)\n",
    "        print(pickle_data)\n",
    "else:\n",
    "    with open(\"materials/data.pickle\", mode=\"rb\") as f:\n",
    "        data = pickle.load(f)\n",
    "        print(data)"
   ]
  },
  {
   "cell_type": "markdown",
   "metadata": {},
   "source": [
    "### 6. YAML格式文件\n",
    "* 与Python一样采用缩进区分层级，需要同一层级文件缩进相同，但是不能用TAB，用相同数量的空格\n",
    "* '#' 表示注释，从它开始到行尾都被忽略\n",
    "* 大小写敏感\n",
    "* 以‘-’开头会被转换为list\n",
    "* 包含':'转换为dictionary\n",
    "* 单引号内内容按照字符串输出，不会变成转义字符，双引号内内容存在转义字符会转换"
   ]
  },
  {
   "cell_type": "code",
   "execution_count": 74,
   "metadata": {},
   "outputs": [
    {
     "name": "stdout",
     "output_type": "stream",
     "text": [
      "{'url': '/api/user/login', 'method': 'post', 'detail': '正常登录', 'data': {'username': 'niuhanyang', 'passwd': 'aA123456'}, 'check': ['userId', 'sign', '111', 222]}\n"
     ]
    }
   ],
   "source": [
    "import yaml\n",
    "with open('materials/config.yml', encoding=\"utf-8\") as f:\n",
    "    config = yaml.safe_load(f)\n",
    "    print(config[0])\n",
    "with open('materials/config.yml', mode='a', encoding='utf-8') as f:\n",
    "    new_config = {\n",
    "        'url': '/api/user/login', \n",
    "        'method': 'post', \n",
    "        'detail': '正常登录', \n",
    "        'data': {\n",
    "            'username': 'Shengjie Wu', \n",
    "            'passwd': 'aA123456'\n",
    "        }, \n",
    "        'check': ['userId', 'sign', '111', 222]\n",
    "    }\n",
    "    if \"Shengjie Wu\" not in [x['data']['username'] for x in config]:\n",
    "        yaml.dump([new_config], f)"
   ]
  },
  {
   "cell_type": "markdown",
   "metadata": {},
   "source": [
    "## 函数相关\n",
    "### 1. 参数和返回值\n",
    "#### 1.1 函数的参数和返回值传递的都是内存地址\n",
    "* 可以节省内存空间，避免多次调用函数时，开辟多个内存空间用于传递\n",
    "* 对于可变类型：list, set, dict，在函数体内修改元素的值，则所有的地方都会改变\n",
    "* 可以用new_data = copy.deepcopy(data)实现值传递\n",
    "* python有缓存和驻留机制"
   ]
  },
  {
   "cell_type": "code",
   "execution_count": 75,
   "metadata": {},
   "outputs": [
    {
     "name": "stdout",
     "output_type": "stream",
     "text": [
      "[1, 2, 3] 140486805938752 5 94136217140832\n",
      "[1, 2, 3] 140486805938752 5 94136217140832\n",
      "[1, 2, 3, 4] 140486805938752 5 94136217140832\n",
      "94136217140704 94136217140704\n"
     ]
    }
   ],
   "source": [
    "def addr(data1, data2):\n",
    "    print(data1, id(data1), data2, id(data2))\n",
    "    data1.append(4)\n",
    "    data2 = 10  # data2重新指向另外一个内存空间，所以不影响传入内存地址的值\n",
    "\n",
    "v1 = [1, 2, 3]\n",
    "v2 = 5\n",
    "print(v1, id(v1), v2, id(v2))\n",
    "addr(v1, v2)\n",
    "print(v1, id(v1), v2, id(v2))\n",
    "\n",
    "v1 = 1\n",
    "v2 = 1\n",
    "print(id(v1), id(v2))  # 理论上v1和v2指向的内存空间地址是不一样的，但是由于Python内部的缓存和驻留机制，相当于常见值的内存是共享的"
   ]
  },
  {
   "cell_type": "markdown",
   "metadata": {},
   "source": [
    "\n",
    "#### 1.2 动态参数\n",
    "* *args\n",
    "  * args是一个tuple\n",
    "  * 只能按照位置传参\n",
    "* **kwargs\n",
    "  * kwargs是一个dict\n",
    "  * 只能按照关键字传参(keyword args)\n",
    "\n",
    "__注意__：python的字符串format就是典型的动态参数例子  \n",
    "__注意__：实参也是支持* 和 ** ，但是数据会重新拷贝一份，而不是直接传递内存地址。加*相当于将输入的容器打散成一个个元素，然后按位置传参给函数的形参，本质和输入参数为一个list一样，只不过省略了v1 = list[0], v2 = list[1]..."
   ]
  },
  {
   "cell_type": "code",
   "execution_count": 76,
   "metadata": {},
   "outputs": [
    {
     "name": "stdout",
     "output_type": "stream",
     "text": [
      "(1, 2, 3)\n",
      "{'name': 'Shengjie Wu', 'age': 24}\n",
      "name: Shengjie Wu, age: 24, gender: male\n",
      "name: Shengjie Wu, age: 24, gender: male\n",
      "name: Shengjie Wu, age: 24, gender: male, points: 99\n",
      "1 2\n",
      "1 2\n"
     ]
    }
   ],
   "source": [
    "def dynamic_args(*args, **kwargs):\n",
    "    print(args)\n",
    "    print(kwargs)\n",
    "\n",
    "dynamic_args(1, 2, 3, name=\"Shengjie Wu\", age=24)  # 关键字传参必须在置传参之后\n",
    "print(\"name: {}, age: {}, gender: {}\".format(\"Shengjie Wu\", 24, \"male\"))  # 位置传参\n",
    "print(\"name: {name}, age: {age}, gender: {gender}\".format(name=\"Shengjie Wu\", age=24, gender=\"male\"))  # 关键字传参\n",
    "print(\"name: {}, age: {}, gender: {gender}, points: {points}\".format(*[\"Shengjie Wu\", 24], **{\"gender\": \"male\", \"points\": 99}))  # 实参用*和**\n",
    "\n",
    "# 实参加*和实参为list\n",
    "def dynamic_real_args(v1, v2):\n",
    "    print(v1, v2)\n",
    "def normal_list_args(v):\n",
    "    print(v[0], v[1])\n",
    "\n",
    "dynamic_real_args(*[1, 2])\n",
    "normal_list_args([1, 2])\n"
   ]
  },
  {
   "cell_type": "markdown",
   "metadata": {},
   "source": [
    "#### 1.3 默认参数\n",
    "* Python在创建函数（未执行）时，如果发现函数参数中有默认值，则会在函数内部创建一块区域用来维护这个默认值\n",
    "* 如果该默认值为可变数据类型（list, set, dict），并且在函数内部修改了之后，那么维护的内存空间里面的值也会改变"
   ]
  },
  {
   "cell_type": "code",
   "execution_count": 77,
   "metadata": {},
   "outputs": [
    {
     "name": "stdout",
     "output_type": "stream",
     "text": [
      "100 [1, 2, 3]\n",
      "200 [1, 2, 3, 3]\n",
      "200 [7, 8, 3]\n",
      "300 [1, 2, 3, 3, 3]\n"
     ]
    },
    {
     "data": {
      "text/plain": [
       "[1, 2, 3, 3, 3]"
      ]
     },
     "execution_count": 77,
     "metadata": {},
     "output_type": "execute_result"
    }
   ],
   "source": [
    "def default_args(v1, v2=[1, 2]):\n",
    "    v2.append(3)\n",
    "    print(v1, v2)\n",
    "    return v2  # 这时候函数内部维护的内存空间被返回了，在外部的修改也会影响默认值\n",
    "\n",
    "default_args(100)\n",
    "default_args(200)\n",
    "default_args(200, [7, 8])\n",
    "default_args(300)"
   ]
  },
  {
   "cell_type": "markdown",
   "metadata": {},
   "source": [
    "### 2. 函数和函数名\n",
    "函数必须先定义才能执行（解释型语言），C++可以先声明，后定义\n",
    "#### 2.1 函数名作为元素\n",
    "* 函数名可以作为list的元素，同时函数名也可以被hash，可以作为set的元素和dict的key\n",
    "* 应用场景1：将不同函数用dict存储，根据key选择调用某个特定函数，这时候可以将不同函数的参数打包为一个列表，然后采用加*的方法按位置传参数，也可以在函数内部对列表元素处理\n",
    "* 应用场景2：将不同函数用list存储，可以循环调用按顺序执行的操作"
   ]
  },
  {
   "cell_type": "code",
   "execution_count": 78,
   "metadata": {},
   "outputs": [
    {
     "name": "stdout",
     "output_type": "stream",
     "text": [
      "v1\n",
      "v1 v2\n"
     ]
    }
   ],
   "source": [
    "def func_as_args_1(v1):\n",
    "    print(v1)\n",
    "def func_as_args_2(v1, v2):\n",
    "    print(v1, v2)\n",
    "function_dict = {\n",
    "    1: [func_as_args_1, [\"v1\"]],\n",
    "    2: [func_as_args_2, [\"v1\", \"v2\"]]\n",
    "}\n",
    "for key in [1, 2]:\n",
    "    item = function_dict[key]\n",
    "    func = item[0]\n",
    "    params = item[1]\n",
    "    func(*params)"
   ]
  },
  {
   "cell_type": "markdown",
   "metadata": {},
   "source": [
    "#### 2.2 函数名赋值\n",
    "* 函数名相当于一个变量指向该函数，如果将函数名指向别的内存空间，那么就不能指代原来的函数\n",
    "* 如果同一函数名用来定义了多个函数，那么该函数名只会指向最后定义的函数"
   ]
  },
  {
   "cell_type": "code",
   "execution_count": 79,
   "metadata": {},
   "outputs": [
    {
     "name": "stdout",
     "output_type": "stream",
     "text": [
      "func\n"
     ]
    }
   ],
   "source": [
    "def func(v1):\n",
    "    print(v1)\n",
    "func(\"func\")\n",
    "func = \"func\"  # 此时func只是一个字符串变量"
   ]
  },
  {
   "cell_type": "markdown",
   "metadata": {},
   "source": [
    "#### 2.3 函数名作为参数和返回值\n",
    "* 和普通的数据类型是一样的，只不过该变量指向某个函数，可以调用而已"
   ]
  },
  {
   "cell_type": "code",
   "execution_count": 80,
   "metadata": {},
   "outputs": [
    {
     "name": "stdout",
     "output_type": "stream",
     "text": [
      "func\n",
      "func\n"
     ]
    }
   ],
   "source": [
    "def func(v1):\n",
    "    print(v1)\n",
    "def handler(func, v1):\n",
    "    func(v1)\n",
    "    return func\n",
    "res = handler(func, \"func\")\n",
    "res(\"func\")"
   ]
  },
  {
   "cell_type": "markdown",
   "metadata": {},
   "source": [
    "### 3 作用域\n",
    "* Python是以函数作为作用域，函数中用for循环定义的i，是可以在函数内部直接访问的，和C++不一样\n",
    "* 定义在函数外面的是全局变量，在局部作用域中默认只能对全局变量进行读取，或者修改可变全局变量（list, set, dict）的元素。如果重新赋值，只是在该函数内部作用域下定义了新的变量，不会改变全局变量\n",
    "* 如果需要在函数内部对全局变量进行重新赋值，需要使用global关键字"
   ]
  },
  {
   "cell_type": "code",
   "execution_count": 81,
   "metadata": {},
   "outputs": [
    {
     "name": "stdout",
     "output_type": "stream",
     "text": [
      "['Beijing', 'Shanghai', 'Chongqing']\n",
      "['Beijing', 'Shanghai']\n",
      "['Beijing', 'Shanghai', 'Chongqing']\n",
      "['Beijing', 'Shanghai', 'Chongqing']\n"
     ]
    }
   ],
   "source": [
    "cities = [\"Beijing\", \"Shanghai\"]\n",
    "def func_1():\n",
    "    cities = [\"Beijing\", \"Shanghai\", \"Chongqing\"]\n",
    "    print(cities)\n",
    "def func_2():\n",
    "    global cities\n",
    "    cities = cities = [\"Beijing\", \"Shanghai\", \"Chongqing\"]\n",
    "    print(cities)\n",
    "func_1()\n",
    "print(cities)\n",
    "func_2()\n",
    "print(cities)"
   ]
  }
 ],
 "metadata": {
  "interpreter": {
   "hash": "3a94075a2e62db5dc98a7ce177b0aa497782b90b7701cb2e0b55d059aa447695"
  },
  "kernelspec": {
   "display_name": "Python 3.8.13 ('motion')",
   "language": "python",
   "name": "python3"
  },
  "language_info": {
   "codemirror_mode": {
    "name": "ipython",
    "version": 3
   },
   "file_extension": ".py",
   "mimetype": "text/x-python",
   "name": "python",
   "nbconvert_exporter": "python",
   "pygments_lexer": "ipython3",
   "version": "3.8.13"
  },
  "orig_nbformat": 4
 },
 "nbformat": 4,
 "nbformat_minor": 2
}
