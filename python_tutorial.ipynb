{
 "cells": [
  {
   "cell_type": "markdown",
   "metadata": {},
   "source": [
    "# Python 进阶教程\n",
    "## 代码规范\n",
    "### 1.1 名称\n",
    "* 文件夹，小写或者小写下划线连接，比如：models, utils, train_utils...\n",
    "* 文件，小写或者小写下划线连接，比如：train.py, multiple_gpus_train.py...\n",
    "* 包名、模块名、函数名，小写或者小写下划线连接，比如：import torch, train_for_one_epoch(...)\n",
    "* 类名，首字母大写式，比如：class AgentEncoder(nn.Module)\n",
    "* 变量\n",
    "  * 全局变量，大写或者大写下划线连接，比如：CONFIG = dict(), TRAIN_ARGS = dict()...\n",
    "  * 局部变量，小写或者小写下划线连接，比如：optimizer = Optim.Adam(...), val_dataloader = DataLoader(...)\n",
    "\n",
    "### 1.2 注释\n",
    "* 方法必须使用标注注释，如果是公有方法或对外提供的API相关方法，则最好给出使用样例\n",
    "* TODO注释：'#'+单个空格+'TODO'+单个空格+注释内容"
   ]
  },
  {
   "cell_type": "markdown",
   "metadata": {},
   "source": [
    "## list, tuple, set, dict\n",
    "| 类型    | 是否可修改    | 是否有序 | 元素要求   | 是否可哈希 | 转换         | 空定义                |\n",
    "|-------|----------|------|--------|-------|------------|--------------------|\n",
    "| list  | 是        | 是    | 无      | 否     | list(...)  | v = list()或v = []  |\n",
    "| tuple | 否        | 是    | 无      | 是     | tuple(...) | v = tuple()或v = () |\n",
    "| set   | 否        | 否    | 可哈希    | 否     | set(...)   | v = set()          |\n",
    "| dict  | value可修改 | 否    | key可哈希 | 否     | dict(...)  | v = dict()或v = {}  |\n",
    "\n",
    "__注意__：Python3.6之后，dict是有序的，体现在list(dict.keys())是按照插入的顺序返回的 \\\n",
    "__注意__：1, True, 1.0作为key的时候是一样的，最后只会出现一组键值对"
   ]
  },
  {
   "cell_type": "code",
   "execution_count": 109,
   "metadata": {},
   "outputs": [
    {
     "name": "stdout",
     "output_type": "stream",
     "text": [
      "[1, 2, (1, 2), 'str', True, {1: 1, 2: 2}, {1, 2}, 1.0]\n",
      "(1, 2, (1, 2), 'str', True, {1: 1, 2: 2}, {1, 2}, 1.0)\n",
      "{1, 2, (1, 2), 'str'}\n",
      "{(1, 2): 0, 'str': 2, True: 2}\n",
      "[(1, 2), 'str', True]\n"
     ]
    }
   ],
   "source": [
    "list_v = [1, 2, (1, 2), \"str\", True, {1: 1, 2: 2}, {1, 2}, 1.0]\n",
    "tuple_v = (1, 2, (1, 2), \"str\", True, {1: 1, 2: 2}, {1, 2}, 1.0)\n",
    "set_v = {1, 2, (1, 2), \"str\", True}\n",
    "dict_v = {(1, 2): 0, \"str\": 2, True: 2}\n",
    "for item in [list_v, tuple_v, set_v, dict_v]:\n",
    "    print(item)\n",
    "print(list(dict_v.keys()))"
   ]
  },
  {
   "cell_type": "markdown",
   "metadata": {},
   "source": [
    "## pass, continue, break\n",
    "* pass是空语句，作用是保持程序结构的完整性.\n",
    "* continue结束本次循环，继续下一次循环\n",
    "* break结束本次循环，跳出循环"
   ]
  },
  {
   "cell_type": "code",
   "execution_count": 110,
   "metadata": {},
   "outputs": [
    {
     "name": "stdout",
     "output_type": "stream",
     "text": [
      "------loop: 0-------\n",
      "the num is 0\n",
      "the num is 0\n",
      "the num is 0\n",
      "------loop: 1-------\n",
      "the num is 1\n",
      "continue: the num is 1\n",
      "------loop: 2-------\n",
      "the num is 2\n",
      "the num is 2\n",
      "the num is 2\n",
      "------loop: 3-------\n",
      "the num is 3\n",
      "the num is 3\n",
      "break: the num is 3\n"
     ]
    }
   ],
   "source": [
    "for i in range(5):\n",
    "    print(f\"loop: {i}\".center(20, '-'))\n",
    "    print(f\"the num is {i}\")\n",
    "    if i == 0:\n",
    "        pass\n",
    "    if i == 1:\n",
    "        print(\"continue: the num is {}\".format(i))\n",
    "        continue\n",
    "    else:\n",
    "        print(\"the num is {}\".format(i))\n",
    "    if i == 3:\n",
    "        print(\"break: the num is %d\" % i)\n",
    "        break\n",
    "    else:\n",
    "        print(\"the num is %d\" % i)\n"
   ]
  },
  {
   "cell_type": "markdown",
   "metadata": {},
   "source": [
    "## is和==的区别\n",
    "* ==：比较值是否相等\n",
    "* is：比较内存地址是否相同"
   ]
  },
  {
   "cell_type": "code",
   "execution_count": 111,
   "metadata": {},
   "outputs": [
    {
     "name": "stdout",
     "output_type": "stream",
     "text": [
      "True\n",
      "False\n",
      "True\n",
      "True\n"
     ]
    }
   ],
   "source": [
    "v1, v2 = [], []\n",
    "v3 = v2\n",
    "print(v1 == v2)\n",
    "print(v1 is v2)\n",
    "print(v2 == v3)\n",
    "print(v2 is v3)"
   ]
  },
  {
   "cell_type": "markdown",
   "metadata": {},
   "source": [
    "## 文件操作\n",
    "### 1. 文件读取和写入\n",
    "#### 1.1 文件读取\n",
    "* f.read(...)    # 不给参数时默认读取整个文件，如果文件过大，内存可能不够，给定参数n后，可读取特定的n个字符或字节\n",
    "* f.readline()   # 从当前光标位置逐行读取\n",
    "* f.readlines()  # 从当前光标位置逐行读取剩下的所有内容，并返回一个list\n",
    "\n",
    "#### 1.2 文件写入\n",
    "* f.write(...)   # 只是将内容写入了缓冲区，缓冲区机制是到达一个容量后才写入硬盘\n",
    "* f.flush()      # 将当前缓冲区内的内容立刻写入硬盘\n",
    "__注意__：读取和写入的不同模式，会导致光标所在字节位置有变化\n",
    "\n",
    "#### 1.3 上下文管理\n",
    "可以实现自动关闭文件"
   ]
  },
  {
   "cell_type": "code",
   "execution_count": 112,
   "metadata": {},
   "outputs": [
    {
     "name": "stdout",
     "output_type": "stream",
     "text": [
      "['1. read\\n', '2. write \\n', 'this is a string written by file operation in Python. \\n']\n",
      "operation\n",
      "1. read\n",
      "2. write \n",
      "this is a string written by file operation in Python. \n",
      "\n"
     ]
    }
   ],
   "source": [
    "file_object = open(\"materials/log.txt\", mode='rt')\n",
    "line = file_object.readline()\n",
    "line = file_object.readlines()\n",
    "file_object.close()\n",
    "print(line)\n",
    "assert len(line) > 0\n",
    "file_object = open(\"materials/log.txt\", mode='a')\n",
    "if line[-1] != \"this is a string written by file operation in Python. \\n\":\n",
    "    file_object.write(\"this is a string written by file operation in Python. \\n\")\n",
    "file_object.close()\n",
    "with open(\"materials/log.txt\", 'rt') as f:\n",
    "    data = f.read()\n",
    "    print(data)"
   ]
  },
  {
   "cell_type": "markdown",
   "metadata": {},
   "source": [
    "### 2. 文件和文件夹路径相关"
   ]
  },
  {
   "cell_type": "code",
   "execution_count": 113,
   "metadata": {},
   "outputs": [
    {
     "name": "stdout",
     "output_type": "stream",
     "text": [
      "/home/wsj/code_space/DL_Env_Configuration /home/wsj/code_space/DL_Env_Configuration/materials/log.txt\n",
      "True\n",
      "False\n",
      "True\n"
     ]
    }
   ],
   "source": [
    "import os\n",
    "base_dir = os.getcwd()\n",
    "file_dir = os.path.join(base_dir, \"materials\", \"log.txt\")\n",
    "print(base_dir, file_dir)\n",
    "print(os.path.exists(file_dir))\n",
    "print(os.path.isdir(file_dir))\n",
    "print(os.path.isabs(file_dir))"
   ]
  },
  {
   "cell_type": "markdown",
   "metadata": {},
   "source": [
    "### 3. 文件移动、删除、复制\n",
    "* shutil.rmtree(...)  # 参数为文件夹路径，将递归的删除文件夹内所有文件，最后删除该文件夹\n",
    "* os.remove(...)  # 用于删除单个文件"
   ]
  },
  {
   "cell_type": "code",
   "execution_count": 114,
   "metadata": {},
   "outputs": [],
   "source": [
    "import os\n",
    "import shutil\n",
    "file_dir = os.path.join(os.getcwd(), \"materials\", \"log.txt\")\n",
    "new_file_dir = os.path.join(os.path.dirname(file_dir), 'log_copy.txt')\n",
    "shutil.copyfile(file_dir, new_file_dir)\n",
    "shutil.move(new_file_dir, os.path.join(os.path.dirname(new_file_dir), \"log_rename.txt\"))\n",
    "os.remove(os.path.join(os.path.dirname(new_file_dir), \"log_rename.txt\"))"
   ]
  },
  {
   "cell_type": "markdown",
   "metadata": {},
   "source": [
    "### 4. CSV格式文件\n",
    "* csv文件是用逗号作为分隔符的纯文本数据存储格式\n",
    "* 可以用传统文件读写操作处理，也可以使用第三方库：csv, pandas"
   ]
  },
  {
   "cell_type": "code",
   "execution_count": 115,
   "metadata": {},
   "outputs": [
    {
     "name": "stdout",
     "output_type": "stream",
     "text": [
      "[64, 92, 70, 70, 88, 57, 64, 92, 70, 70, 88, 570, 99]\n",
      "             0   1   2   3\n",
      "0  Shengjie Wu  24  NY  99\n"
     ]
    }
   ],
   "source": [
    "import pandas as pd\n",
    "df = pd.read_csv(\"materials/points.csv\", header=0)\n",
    "new_df = pd.DataFrame([[\"Shengjie Wu\", 24, \"NY\", 99]])\n",
    "if \"Shengjie Wu\" not in list(df[\"name\"]):\n",
    "    new_df.to_csv(\"materials/points.csv\", mode='a', header=False, index=None)\n",
    "print(list(df[\"point\"]))\n",
    "print(new_df)"
   ]
  },
  {
   "cell_type": "markdown",
   "metadata": {},
   "source": [
    "### 5. pickle格式文件\n",
    "* 不同于普通的file函数只能存储和读取字符串格式的数据，pickle可以存储和读取其他格式比如list, dict, numpy.array()等\n",
    "* pickle的经常存取的场景（保存和恢复状态）下读取效率相较file更加高效 \\\n",
    "__注意__：在深度学习数据预处理时，就可以将处理后的数据保存成*.pickle，训练时直接load即可"
   ]
  },
  {
   "cell_type": "code",
   "execution_count": 116,
   "metadata": {},
   "outputs": [
    {
     "name": "stdout",
     "output_type": "stream",
     "text": [
      "{'feats': array([[0.33487029, 0.39792792, 0.66601897],\n",
      "       [0.11761664, 0.14704708, 0.12283957],\n",
      "       [0.25814025, 0.12651752, 0.74917641]]), 'idcs': [0, 1, 2]}\n"
     ]
    }
   ],
   "source": [
    "import pickle\n",
    "import numpy as np\n",
    "pickle_data = {\n",
    "    \"feats\": np.random.rand(3, 3),\n",
    "    \"idcs\": [0, 1, 2]\n",
    "}\n",
    "if not os.path.exists(\"materials/data.pickle\"):\n",
    "    with open(\"materials/data.pickle\", mode=\"wb\") as f:\n",
    "        pickle.dump(pickle_data, f, protocol=pickle.HIGHEST_PROTOCOL)\n",
    "        print(pickle_data)\n",
    "else:\n",
    "    with open(\"materials/data.pickle\", mode=\"rb\") as f:\n",
    "        data = pickle.load(f)\n",
    "        print(data)"
   ]
  },
  {
   "cell_type": "markdown",
   "metadata": {},
   "source": [
    "### 6. YAML格式文件\n",
    "* 与Python一样采用缩进区分层级，需要同一层级文件缩进相同，但是不能用TAB，用相同数量的空格\n",
    "* '#' 表示注释，从它开始到行尾都被忽略\n",
    "* 大小写敏感\n",
    "* 以‘-’开头会被转换为list\n",
    "* 包含':'转换为dictionary\n",
    "* 单引号内内容按照字符串输出，不会变成转义字符，双引号内内容存在转义字符会转换"
   ]
  },
  {
   "cell_type": "code",
   "execution_count": 117,
   "metadata": {},
   "outputs": [
    {
     "name": "stdout",
     "output_type": "stream",
     "text": [
      "{'url': '/api/user/login', 'method': 'post', 'detail': '正常登录', 'data': {'username': 'niuhanyang', 'passwd': 'aA123456'}, 'check': ['userId', 'sign', '111', 222]}\n"
     ]
    }
   ],
   "source": [
    "import yaml\n",
    "with open('materials/config.yml', encoding=\"utf-8\") as f:\n",
    "    config = yaml.safe_load(f)\n",
    "    print(config[0])\n",
    "with open('materials/config.yml', mode='a', encoding='utf-8') as f:\n",
    "    new_config = {\n",
    "        'url': '/api/user/login', \n",
    "        'method': 'post', \n",
    "        'detail': '正常登录', \n",
    "        'data': {\n",
    "            'username': 'Shengjie Wu', \n",
    "            'passwd': 'aA123456'\n",
    "        }, \n",
    "        'check': ['userId', 'sign', '111', 222]\n",
    "    }\n",
    "    if \"Shengjie Wu\" not in [x['data']['username'] for x in config]:\n",
    "        yaml.dump([new_config], f)"
   ]
  }
 ],
 "metadata": {
  "interpreter": {
   "hash": "3a94075a2e62db5dc98a7ce177b0aa497782b90b7701cb2e0b55d059aa447695"
  },
  "kernelspec": {
   "display_name": "Python 3.8.13 ('motion')",
   "language": "python",
   "name": "python3"
  },
  "language_info": {
   "codemirror_mode": {
    "name": "ipython",
    "version": 3
   },
   "file_extension": ".py",
   "mimetype": "text/x-python",
   "name": "python",
   "nbconvert_exporter": "python",
   "pygments_lexer": "ipython3",
   "version": "3.8.13"
  },
  "orig_nbformat": 4
 },
 "nbformat": 4,
 "nbformat_minor": 2
}
